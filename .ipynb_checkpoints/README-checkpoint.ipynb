{
 "cells": [
  {
   "cell_type": "markdown",
   "metadata": {},
   "source": [
    "# Capstone Project\n",
    "## Predicting Backorders\n",
    "\n",
    "\n",
    "## Table of Contents  \n",
    "- [Project Overview](#project-overview)\n",
    "- [Project Highlights](#project-highlights)\n",
    "- [Install](#install)\n",
    "- [Code](#code)\n",
    "- [Run](#run)\n",
    "- [Data](#data)\n",
    "\n",
    "\n",
    "### <a name=\"project-overview\"></a>Project Overview\n",
    "\n",
    "Backorders happen when supply outstrips the demand, which is a problem for businesses that may result in lower customer satisfaction or even loss of loyal customers. Multiple factors such as incompetent management, miscommunication, or lack of data to accurately forecast the demand. An accurate prediction of backorders can prevent competitor taking advantages of the situation, or potentially losing loyal customers. \n",
    "\n",
    "\n",
    "### <a name=\"project-highlights\"></a>Project Highlights\n",
    "\n",
    "This project is an attempt to solve [\"Can you predict Product Backorders\"](https://www.kaggle.com/tiredgeek/predict-bo-trial) on Kaggle with [XGBoost](https://xgboost.readthedocs.io/en/latest/).\n",
    "\n",
    "\n",
    "### <a name=\"install\"></a>Install\n",
    "\n",
    "The project requires **Python 2.7** and the following Python libraries:\n",
    "\n",
    "- [NumPy](http://www.numpy.org/)\n",
    "- [Pandas](http://pandas.pydata.org)\n",
    "- [matplotlib](http://matplotlib.org/)\n",
    "- [Seaborn](https://stanford.edu/~mwaskom/software/seaborn/)\n",
    "- [scikit-learn](http://scikit-learn.org/stable/)\n",
    "- [XGBoost](https://xgboost.readthedocs.io/en/latest/)\n",
    "\n",
    "[Jupyter Notebook](http://jupyter.org/) is necessary for running the .ipynb files to run the code for the project. \n",
    "\n",
    "### <a name=\"code\"></a>Code\n",
    "\n",
    "All of the code is provided in the Jupyter notebook `Capstone_project_code.ipynb`. Detailed code for model selection and parameter tuning is provided in the Jupyter notebook `model_selection_and_parameter_tuning.ipynb`. \n",
    "\n",
    "### <a name=\"run\"></a>Run\n",
    "\n",
    "In a terminal or command window in Anaconda, navigate to the project directory, move to `/code/` directory, and run the following command ```jupyter notebook Capstone_project_code.ipynb```. This opens the notebook in your browser.\n",
    "\n",
    "\n",
    "### <a name=\"data\"></a>Data\n",
    "\n",
    "The training and test datasets can be downloaded [here](https://www.kaggle.com/tiredgeek/predict-bo-trial). \n"
   ]
  }
 ],
 "metadata": {
  "kernelspec": {
   "display_name": "Python 3",
   "language": "python",
   "name": "python3"
  },
  "language_info": {
   "codemirror_mode": {
    "name": "ipython",
    "version": 3
   },
   "file_extension": ".py",
   "mimetype": "text/x-python",
   "name": "python",
   "nbconvert_exporter": "python",
   "pygments_lexer": "ipython3",
   "version": "3.6.0"
  }
 },
 "nbformat": 4,
 "nbformat_minor": 2
}
