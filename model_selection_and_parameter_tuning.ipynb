{
 "cells": [
  {
   "cell_type": "markdown",
   "metadata": {},
   "source": [
    "# Machine Learning Engineer Nanodegree\n",
    "## Capstone Project\n",
    "## Project: Predicting Backorders\n",
    "### Model Selection & Parameter Tuning (details)"
   ]
  },
  {
   "cell_type": "code",
   "execution_count": 1,
   "metadata": {
    "collapsed": false
   },
   "outputs": [
    {
     "name": "stdout",
     "output_type": "stream",
     "text": [
      "Training dataset has 1586967 samples with 23 features each.\n",
      "Testing dataset has 227351 samples with 23 features each.\n"
     ]
    }
   ],
   "source": [
    "# Import libraries \n",
    "import numpy as np\n",
    "import pandas as pd\n",
    "import os\n",
    "import seaborn as sns\n",
    "import matplotlib.pyplot as plt\n",
    "from scipy import stats\n",
    "import visuals as vs\n",
    "import xgboost\n",
    "\n",
    "# Display options\n",
    "from IPython.display import display # Allows the use of display() for DataFrames\n",
    "import warnings # hide warnings\n",
    "warnings.filterwarnings('ignore')\n",
    "# pretty display\n",
    "%matplotlib inline \n",
    "\n",
    "# Load data\n",
    "try:\n",
    "    train_df = pd.read_csv(\"./processed_train.csv\", low_memory = False)\n",
    "    print(\"Training dataset has {} samples with {} features each.\".format(*train_df.shape))\n",
    "    test_df = pd.read_csv(\"./processed_test.csv\", low_memory = False)\n",
    "    print(\"Testing dataset has {} samples with {} features each.\".format(*test_df.shape))\n",
    "except:\n",
    "    print(\"Dataset could not be loaded. Is the dataset missing?\")"
   ]
  },
  {
   "cell_type": "code",
   "execution_count": 2,
   "metadata": {
    "collapsed": false
   },
   "outputs": [],
   "source": [
    "# reset index to sku\n",
    "train_df = train_df.set_index('sku'); test_df= test_df.set_index('sku')\n",
    "# remove rows with NaN for all values\n",
    "train_df = train_df.dropna(how = 'all')"
   ]
  },
  {
   "cell_type": "markdown",
   "metadata": {
    "collapsed": true
   },
   "source": [
    "### Benchmark Predictor Performance\n",
    "\n",
    "The naive predictor for our benchmark predictor is one that always predict an order without any backorder. Due to the low backorder rate, the accuracy and F-score of the benchmark predictor are really high."
   ]
  },
  {
   "cell_type": "code",
   "execution_count": 5,
   "metadata": {
    "collapsed": false
   },
   "outputs": [
    {
     "data": {
      "text/html": [
       "<div>\n",
       "<table border=\"1\" class=\"dataframe\">\n",
       "  <thead>\n",
       "    <tr style=\"text-align: right;\">\n",
       "      <th></th>\n",
       "      <th>Benchmark Predictor</th>\n",
       "    </tr>\n",
       "  </thead>\n",
       "  <tbody>\n",
       "    <tr>\n",
       "      <th>Precision</th>\n",
       "      <td>0.993088</td>\n",
       "    </tr>\n",
       "    <tr>\n",
       "      <th>Recall</th>\n",
       "      <td>1.000000</td>\n",
       "    </tr>\n",
       "    <tr>\n",
       "      <th>F1 score</th>\n",
       "      <td>0.994463</td>\n",
       "    </tr>\n",
       "    <tr>\n",
       "      <th>Kappa</th>\n",
       "      <td>0.993088</td>\n",
       "    </tr>\n",
       "  </tbody>\n",
       "</table>\n",
       "</div>"
      ],
      "text/plain": [
       "           Benchmark Predictor\n",
       "Precision             0.993088\n",
       "Recall                1.000000\n",
       "F1 score              0.994463\n",
       "Kappa                 0.993088"
      ]
     },
     "execution_count": 5,
     "metadata": {},
     "output_type": "execute_result"
    }
   ],
   "source": [
    "from sklearn.metrics import confusion_matrix\n",
    "\n",
    "# Get data characteristics on the training set\n",
    "n_orders = len(train_df)\n",
    "n_features = len(train_df.iloc[0]) - 1  # Don't count target column\n",
    "n_bo = len(train_df[train_df['went_on_backorder'] == 1])\n",
    "n_nobo = len(train_df[train_df['went_on_backorder'] == 0])\n",
    "bo_rate = float(n_bo)/n_orders * 100\n",
    "\n",
    "# Benchmark predictor\n",
    "# accuracy = # predicted right/total\n",
    "accuracy =1.*n_nobo/n_orders\n",
    "\n",
    "#Precision = TP / (TP+FP) \n",
    "#Recall = TP / (TP+FN)\n",
    "beta = 0.5\n",
    "precision = 1.*n_nobo /(n_nobo + n_bo)\n",
    "recall = 1.*n_nobo/ (n_nobo + 0) \n",
    "fscore = (1+beta**2)*precision*recall /(beta**2*precision+recall)\n",
    "\n",
    "# calculate kappa\n",
    "a = n_nobo; b = n_bo; c = d = 0\n",
    "p0 = accuracy\n",
    "pNoBo = (a+b)/n_orders*(a+c)/n_orders\n",
    "pBo = (c+d)/n_orders*(b+d)/n_orders\n",
    "pE = pNoBo + pBo\n",
    "kappa = (p0 - pE)/(1-pE)\n",
    "\n",
    "naive_df = pd.DataFrame([precision, recall, fscore,kappa], index=['Precision', 'Recall', 'F1 score', 'Kappa'], columns=['Benchmark Predictor'])\n",
    "naive_df"
   ]
  },
  {
   "cell_type": "markdown",
   "metadata": {},
   "source": [
    "# III. Model Selection\n",
    "\n",
    "Due to the highly imbalanced dataset with 1:143 ratio, we cannot rely on accuracy as it is misleading Because we have really imbalanced dataset with 1:143 ratio, we know we cannot rely on accurcy as it's misleading due to the accuracy paradox. Accuracy only reflects the underlying distribution when the data is imbalanced. \n",
    "\n",
    "The metrics that we will examine are: \n",
    "- confusion matrix: 2 by 2 table showing types of correct and incorrect predictions\n",
    "- precision: measure of classification exactness\n",
    "- recall: measure of classification completeness\n",
    "- F1 score: weighted average of precision and recall\n",
    "- Cohen's kappa: classification accuracy normalized by the imbalance of the data\n",
    "- ROC curve: graphical examination of sensitivity vs 1-specificity. \n",
    "\n",
    "We will pick the supervised machine learning method through model performance on validation set. The five methods that we are interested are: \n",
    "- **Gradient Boosting Classifier**: a principled method of dealing with class imbalance by constructing successive training sets based on incorrectly classified examples.\n",
    "- **Random Forest classifier**: bagging-based ensemble method. \n",
    "- **Decision Tree classifier**: this method is based on 'gini index' or 'entropy,' which doesn't rely on accuracy. \n",
    "- **AdaBoost classifier**: AdaBoost can achieve similar classification results with much less parameter tuning. \n",
    "- **Bagging classifier**: ensemble method. "
   ]
  },
  {
   "cell_type": "code",
   "execution_count": 6,
   "metadata": {
    "collapsed": false
   },
   "outputs": [],
   "source": [
    "from sklearn import cross_validation\n",
    "from sklearn import metrics\n",
    "from sklearn.grid_search import GridSearchCV\n",
    "from xgboost import XGBClassifier\n",
    "from sklearn.ensemble import GradientBoostingClassifier\n",
    "from sklearn.ensemble import RandomForestClassifier\n",
    "from sklearn.tree import DecisionTreeClassifier\n",
    "from sklearn.ensemble import AdaBoostClassifier\n",
    "from sklearn.ensemble import BaggingClassifier\n",
    "\n",
    "features = train_df.drop('went_on_backorder', axis=1, inplace=False).columns.values.tolist()\n",
    "\n",
    "X_train, X_validation, y_train, y_validation = cross_validation.train_test_split(train_df[features],train_df['went_on_backorder'],\n",
    "                                                                     test_size=0.2, random_state=0)\n",
    "#create classifiers\n",
    "xgbclf = XGBClassifier(random_state=100) \n",
    "gbclf = GradientBoostingClassifier(random_state=100) \n",
    "rfclf = RandomForestClassifier(random_state=100) \n",
    "dtclf = DecisionTreeClassifier(random_state=100) \n",
    "abclf = AdaBoostClassifier(random_state=100) \n",
    "bclf = BaggingClassifier(random_state=100)\n",
    "\n",
    "# train classifiers\n",
    "xgbclf.fit(X_train, y_train)\n",
    "gbclf.fit(X_train, y_train)\n",
    "rfclf.fit(X_train, y_train)\n",
    "dtclf.fit(X_train, y_train)\n",
    "abclf.fit(X_train, y_train)\n",
    "bclf.fit(X_train, y_train)\n",
    "\n",
    "# obtain predictions\n",
    "xgbpreds = xgbclf.predict(X_validation)\n",
    "gbpreds = gbclf.predict(X_validation)\n",
    "rfpreds = rfclf.predict(X_validation)\n",
    "dtpreds = dtclf.predict(X_validation)\n",
    "abpreds = abclf.predict(X_validation)\n",
    "bpreds = bclf.predict(X_validation)"
   ]
  },
  {
   "cell_type": "code",
   "execution_count": 7,
   "metadata": {
    "collapsed": false
   },
   "outputs": [
    {
     "data": {
      "image/png": "[encoded data removed]",
      "text/plain": [
       "<matplotlib.figure.Figure at 0xc36ca90>"
      ]
     },
     "metadata": {},
     "output_type": "display_data"
    }
   ],
   "source": [
    "def roc_auc_plot(y_true, y_proba, label=' ', l='-', lw=1.0):\n",
    "    from sklearn.metrics import roc_curve, roc_auc_score\n",
    "    fpr, tpr, _ = roc_curve(y_true, y_proba[:,1])\n",
    "    ax.plot(fpr, tpr, linestyle=l, linewidth=lw,\n",
    "            label=\"%s (area=%.3f)\"%(label,roc_auc_score(y_true, y_proba[:,1])))\n",
    "    \n",
    "f, ax = plt.subplots(figsize=(8,8))\n",
    "\n",
    "roc_auc_plot(y_validation, xgbclf.predict_proba(X_validation),label='XGB',l='--')\n",
    "roc_auc_plot(y_validation, gbclf.predict_proba(X_validation),label='Gradient Boosting', l=':')\n",
    "roc_auc_plot(y_validation, rfclf.predict_proba(X_validation),label='Random Forest',l='-.')\n",
    "roc_auc_plot(y_validation, dtclf.predict_proba(X_validation),label='Decision Tree',l='--')\n",
    "roc_auc_plot(y_validation, abclf.predict_proba(X_validation),label='AdaBoost',l='-')\n",
    "roc_auc_plot(y_validation, bclf.predict_proba(X_validation),label='Bagging',l='-.')\n",
    "\n",
    "ax.plot([0,1], [0,1], color='black', linewidth=0.5, linestyle='--', \n",
    "        label='Random Classifier')    \n",
    "ax.legend(loc=\"lower right\")    \n",
    "ax.set_xlabel('False Positive Rate')\n",
    "ax.set_ylabel('True Positive Rate')\n",
    "ax.set_xlim([0, 1])\n",
    "ax.set_ylim([0, 1])\n",
    "ax.set_title('ROC curves for three classifiers')\n",
    "sns.despine()"
   ]
  },
  {
   "cell_type": "code",
   "execution_count": 8,
   "metadata": {
    "collapsed": false
   },
   "outputs": [
    {
     "name": "stdout",
     "output_type": "stream",
     "text": [
      "           Adaboost   Bagging  Decision Tree        GB        RF       XGB\n",
      "Precision  0.226891  0.774138       0.326622  0.578947  0.814000  1.000000\n",
      "Recall     0.012097  0.201165       0.327061  0.014785  0.182348  0.000448\n",
      "F1 score   0.022969  0.319346       0.326841  0.028834  0.297950  0.000896\n",
      "Kappa      0.022273  0.317365       0.322071  0.028493  0.296138  0.000889\n"
     ]
    }
   ],
   "source": [
    "from sklearn.metrics import f1_score, cohen_kappa_score, precision_score, recall_score, confusion_matrix\n",
    "\n",
    "# get statistics\n",
    "xgb_cm = confusion_matrix(y_validation, xgbpreds)\n",
    "xgb_precision = precision_score(y_validation, xgbpreds)  \n",
    "xgb_recall = recall_score(y_validation, xgbpreds) \n",
    "xgb_f1 = f1_score(y_validation, xgbpreds) \n",
    "xgb_kappa = cohen_kappa_score(y_validation, xgbpreds) \n",
    "\n",
    "gb_cm = confusion_matrix(y_validation, gbpreds)\n",
    "gb_precision = precision_score(y_validation, gbpreds)  \n",
    "gb_recall = recall_score(y_validation, gbpreds) \n",
    "gb_f1 = f1_score(y_validation, gbpreds) \n",
    "gb_kappa = cohen_kappa_score(y_validation, gbpreds) \n",
    "\n",
    "rf_cm = confusion_matrix(y_validation, rfpreds)\n",
    "rf_precision = precision_score(y_validation, rfpreds)  \n",
    "rf_recall = recall_score(y_validation, rfpreds) \n",
    "rf_f1 = f1_score(y_validation, rfpreds) \n",
    "rf_kappa = cohen_kappa_score(y_validation, rfpreds) \n",
    "\n",
    "dt_cm = confusion_matrix(y_validation, dtpreds)\n",
    "dt_precision = precision_score(y_validation, dtpreds)  \n",
    "dt_recall = recall_score(y_validation, dtpreds) \n",
    "dt_f1 = f1_score(y_validation, dtpreds) \n",
    "dt_kappa = cohen_kappa_score(y_validation, dtpreds)\n",
    "\n",
    "ab_cm = confusion_matrix(y_validation, abpreds)\n",
    "ab_precision = precision_score(y_validation, abpreds)  \n",
    "ab_recall = recall_score(y_validation, abpreds) \n",
    "ab_f1 = f1_score(y_validation, abpreds) \n",
    "ab_kappa = cohen_kappa_score(y_validation, abpreds)\n",
    "\n",
    "b_cm = confusion_matrix(y_validation, bpreds)\n",
    "b_precision = precision_score(y_validation, bpreds)  \n",
    "b_recall = recall_score(y_validation, bpreds) \n",
    "b_f1 = f1_score(y_validation, bpreds) \n",
    "b_kappa = cohen_kappa_score(y_validation, bpreds)\n",
    "\n",
    "result = pd.DataFrame({'XGB': [xgb_precision, xgb_recall, xgb_f1, xgb_kappa], \n",
    "                       'GB':[gb_precision, gb_recall, gb_f1, gb_kappa], \n",
    "                       'RF':[rf_precision, rf_recall, rf_f1, rf_kappa], \n",
    "                       'Decision Tree':[dt_precision, dt_recall, dt_f1, dt_kappa],\n",
    "                       'Adaboost':[ab_precision, ab_recall, ab_f1, ab_kappa],\n",
    "                       'Bagging':[b_precision, b_recall, b_f1, b_kappa]}, \n",
    "                     index = ['Precision', 'Recall', 'F1 score', 'Kappa'])\n",
    "print(result)\n"
   ]
  },
  {
   "cell_type": "code",
   "execution_count": null,
   "metadata": {
    "collapsed": false
   },
   "outputs": [],
   "source": [
    "# print confusion matrix \n",
    "print 'Bagging Classifier', '                     ', 'Random Forest Classifier', '              ',  'Decision Tree Classifier'\n",
    "print b_cm[0],'                        ', rf_cm[0], '                       ',  dt_cm[0]\n",
    "print b_cm[1],'                            ', rf_cm[1], '                           ', dt_cm[1]\n",
    "print \n",
    "print 'Misclassification rate: '\n",
    "print 1.*(b_cm[0][1]+b_cm[1][0])/X_validation.shape[0], '                       ',  1.*(rf_cm[0][1]+rf_cm[1][0])/X_validation.shape[0], '                      ', 1.*(dt_cm[0][1]+dt_cm[1][0])/X_validation.shape[0], ''\n",
    "print\n",
    "print 'Number of False Negative:'\n",
    "print b_cm[1][0], '                                   ',  rf_cm[1][0], '                                  ', dt_cm[1][0]\n",
    " "
   ]
  },
  {
   "cell_type": "markdown",
   "metadata": {},
   "source": [
    "With ROC curves, we can see that gradient boosting performs the best among the three. For precision/recall, decision tree is the best. For F1 score and Kappa score, decision tree is the best. Since false negative is more important than false positive here (it's better to prepare for a backorder that may not happen instead of missing a backorder that actually will happen), we have gathered the number of false negative and decision tree has the least amount of false negatives. Combine all criteria, we have decided to use decision tree for predicting backorder. "
   ]
  },
  {
   "cell_type": "markdown",
   "metadata": {},
   "source": [
    "## Model Tuning\n",
    "\n"
   ]
  },
  {
   "cell_type": "markdown",
   "metadata": {},
   "source": [
    "We will first fix learning rate and several estimators for tuning tree-based parameters. The initial estimates will be tuned later as well. Lets take the following values:\n",
    "\n",
    "- max_depth = 5 : maximum depth of a tree, typically between 3 and 10.\n",
    "- min_child_weight = 1 : A smaller value is chosen due to our imbalanced outcome. It's also used to control over-fitting. \n",
    "- gamma = 0 : gamma specifies the minimum loss reduction required to make a split. A smaller value like 0.1-0.2 can also be chosen for starting. \n",
    "- subsample, colsample_bytree = 0.8 : the fraction of observations to be randomly samples for each tree.\n",
    "Lower values make the algorithm more conservative and prevents overfitting but too small values might lead to under-fitting. It's typically set between 0.5 and 1. \n",
    "- scale_pos_weight = 1: a value greater than 0 should be used in case of high class imbalance as it helps in faster convergence.\n"
   ]
  },
  {
   "cell_type": "code",
   "execution_count": 4,
   "metadata": {
    "collapsed": false
   },
   "outputs": [],
   "source": [
    "#Import libraries:\n",
    "import pandas as pd\n",
    "import numpy as np\n",
    "import xgboost as xgb\n",
    "from xgboost.sklearn import XGBClassifier\n",
    "from sklearn import cross_validation, metrics   #Additional scklearn functions\n",
    "from sklearn.grid_search import GridSearchCV   #Perforing grid search\n",
    "from sklearn.metrics import cohen_kappa_score, make_scorer, precision_score, recall_score\n",
    "from sklearn.grid_search import GridSearchCV\n",
    "from sklearn.svm import LinearSVC\n",
    "\n",
    "import matplotlib.pylab as plt\n",
    "%matplotlib inline\n",
    "from matplotlib.pylab import rcParams\n",
    "\n",
    "scoring_function = make_scorer(cohen_kappa_score, greater_is_better=False)\n",
    "target = 'went_on_backorder'\n",
    "predictors = [x for x in train_df.columns if x not in ['went_on_backorder']]\n",
    "\n",
    "#train = X_train; train['went_on_backorder'] = y_train\n",
    "#validation = X_validation; validation['went_on_backorder'] = y_validation"
   ]
  },
  {
   "cell_type": "code",
   "execution_count": 5,
   "metadata": {
    "collapsed": false
   },
   "outputs": [],
   "source": [
    "# normalize the data to make sure everything is normalized\n",
    "from sklearn import preprocessing\n",
    "min_max_scaler = preprocessing.MinMaxScaler()\n",
    "np_scaled = min_max_scaler.fit_transform(train_df)\n",
    "df_normalized = pd.DataFrame(np_scaled)\n",
    "df_normalized.columns = train_df.columns"
   ]
  },
  {
   "cell_type": "code",
   "execution_count": 6,
   "metadata": {
    "collapsed": true
   },
   "outputs": [],
   "source": [
    "def modelfit(alg, dtrain, predictors, useTrainCV=True, cv_folds=5, early_stopping_rounds=50):\n",
    "    \n",
    "    if useTrainCV:\n",
    "        xgb_param = alg.get_xgb_params()\n",
    "        xgtrain = xgb.DMatrix(dtrain[predictors].values, label=dtrain[target].values)\n",
    "        cvresult = xgb.cv(xgb_param, xgtrain, num_boost_round=alg.get_params()['n_estimators'], nfold=cv_folds,\n",
    "            metrics='error', early_stopping_rounds=early_stopping_rounds, verbose_eval= True)\n",
    "        alg.set_params(n_estimators=cvresult.shape[0])\n",
    "    \n",
    "    #Fit the algorithm on the data\n",
    "    alg.fit(dtrain[predictors], dtrain['went_on_backorder'],eval_metric='error')\n",
    "        \n",
    "    #Predict training set:\n",
    "    dtrain_predictions = alg.predict(dtrain[predictors])\n",
    "    dtrain_predprob = alg.predict_proba(dtrain[predictors])[:,1]\n",
    "     \n",
    "    return dtrain_predictions, dtrain_predprob    "
   ]
  },
  {
   "cell_type": "code",
   "execution_count": 7,
   "metadata": {
    "collapsed": false
   },
   "outputs": [
    {
     "name": "stdout",
     "output_type": "stream",
     "text": [
      "[0]\ttrain-error:0.0069084+2.23839e-05\ttest-error:0.0069126+8.43009e-05\n",
      "[1]\ttrain-error:0.0069096+1.98655e-05\ttest-error:0.0069126+8.43009e-05\n",
      "[2]\ttrain-error:0.00691+2.19454e-05\ttest-error:0.006912+8.25009e-05\n",
      "[3]\ttrain-error:0.0069118+2.09895e-05\ttest-error:0.006912+8.42211e-05\n",
      "[4]\ttrain-error:0.0069118+2.09895e-05\ttest-error:0.006912+8.42211e-05\n",
      "[5]\ttrain-error:0.0069118+2.09895e-05\ttest-error:0.006912+8.42211e-05\n",
      "[6]\ttrain-error:0.0069118+2.09895e-05\ttest-error:0.006912+8.42211e-05\n",
      "[7]\ttrain-error:0.0069118+2.09895e-05\ttest-error:0.006912+8.42211e-05\n",
      "[8]\ttrain-error:0.0069118+2.09895e-05\ttest-error:0.006912+8.42211e-05\n",
      "[9]\ttrain-error:0.0069118+2.09895e-05\ttest-error:0.006912+8.42211e-05\n",
      "[10]\ttrain-error:0.0069118+2.09895e-05\ttest-error:0.006912+8.42211e-05\n",
      "[11]\ttrain-error:0.0069118+2.09895e-05\ttest-error:0.006912+8.42211e-05\n",
      "[12]\ttrain-error:0.0069118+2.09895e-05\ttest-error:0.006912+8.42211e-05\n",
      "[13]\ttrain-error:0.0069118+2.09895e-05\ttest-error:0.006912+8.42211e-05\n",
      "[14]\ttrain-error:0.0069118+2.09895e-05\ttest-error:0.006912+8.42211e-05\n",
      "[15]\ttrain-error:0.0069118+2.09895e-05\ttest-error:0.006912+8.42211e-05\n",
      "[16]\ttrain-error:0.0069118+2.09895e-05\ttest-error:0.006912+8.42211e-05\n",
      "[17]\ttrain-error:0.0069118+2.09895e-05\ttest-error:0.006912+8.42211e-05\n",
      "[18]\ttrain-error:0.0069118+2.09895e-05\ttest-error:0.006912+8.42211e-05\n",
      "[19]\ttrain-error:0.0069118+2.09895e-05\ttest-error:0.006912+8.42211e-05\n",
      "[20]\ttrain-error:0.0069118+2.09895e-05\ttest-error:0.006912+8.42211e-05\n",
      "[21]\ttrain-error:0.0069118+2.09895e-05\ttest-error:0.006912+8.42211e-05\n",
      "[22]\ttrain-error:0.0069118+2.09895e-05\ttest-error:0.006912+8.42211e-05\n",
      "[23]\ttrain-error:0.0069118+2.09895e-05\ttest-error:0.006912+8.42211e-05\n",
      "[24]\ttrain-error:0.0069118+2.09895e-05\ttest-error:0.006912+8.42211e-05\n",
      "[25]\ttrain-error:0.0069118+2.09895e-05\ttest-error:0.006912+8.42211e-05\n",
      "[26]\ttrain-error:0.0069118+2.09895e-05\ttest-error:0.006912+8.42211e-05\n",
      "[27]\ttrain-error:0.0069118+2.09895e-05\ttest-error:0.006912+8.42211e-05\n",
      "[28]\ttrain-error:0.0069118+2.09895e-05\ttest-error:0.006912+8.42211e-05\n",
      "[29]\ttrain-error:0.0069118+2.09895e-05\ttest-error:0.006912+8.42211e-05\n",
      "[30]\ttrain-error:0.0069118+2.09895e-05\ttest-error:0.006912+8.42211e-05\n",
      "[31]\ttrain-error:0.0069118+2.09895e-05\ttest-error:0.006912+8.42211e-05\n",
      "[32]\ttrain-error:0.0069118+2.09895e-05\ttest-error:0.006912+8.42211e-05\n",
      "[33]\ttrain-error:0.0069118+2.09895e-05\ttest-error:0.006912+8.42211e-05\n",
      "[34]\ttrain-error:0.0069118+2.09895e-05\ttest-error:0.006912+8.42211e-05\n",
      "[35]\ttrain-error:0.0069118+2.09895e-05\ttest-error:0.006912+8.42211e-05\n",
      "[36]\ttrain-error:0.0069118+2.09895e-05\ttest-error:0.006912+8.42211e-05\n",
      "[37]\ttrain-error:0.0069118+2.09895e-05\ttest-error:0.006912+8.42211e-05\n",
      "[38]\ttrain-error:0.0069118+2.09895e-05\ttest-error:0.006912+8.42211e-05\n",
      "[39]\ttrain-error:0.0069118+2.09895e-05\ttest-error:0.006912+8.42211e-05\n",
      "[40]\ttrain-error:0.0069118+2.09895e-05\ttest-error:0.006912+8.42211e-05\n",
      "[41]\ttrain-error:0.0069118+2.09895e-05\ttest-error:0.006912+8.42211e-05\n",
      "[42]\ttrain-error:0.0069118+2.09895e-05\ttest-error:0.006912+8.42211e-05\n",
      "[43]\ttrain-error:0.0069118+2.09895e-05\ttest-error:0.006912+8.42211e-05\n",
      "[44]\ttrain-error:0.0069118+2.09895e-05\ttest-error:0.006912+8.42211e-05\n",
      "[45]\ttrain-error:0.0069118+2.09895e-05\ttest-error:0.006912+8.42211e-05\n",
      "[46]\ttrain-error:0.0069118+2.09895e-05\ttest-error:0.006912+8.42211e-05\n",
      "[47]\ttrain-error:0.0069118+2.09895e-05\ttest-error:0.006912+8.42211e-05\n",
      "[48]\ttrain-error:0.0069118+2.09895e-05\ttest-error:0.006912+8.42211e-05\n",
      "[49]\ttrain-error:0.0069116+2.0848e-05\ttest-error:0.006912+8.42211e-05\n",
      "[50]\ttrain-error:0.0069116+2.0848e-05\ttest-error:0.006912+8.42211e-05\n",
      "[51]\ttrain-error:0.0069114+2.11339e-05\ttest-error:0.006912+8.42211e-05\n",
      "\n",
      "Model Report\n",
      "Accuracy : 0.9931\n",
      "AUC Score (Train): 0.925318\n"
     ]
    }
   ],
   "source": [
    "# get a benchmark performance with our initial values\n",
    "xgb1 = XGBClassifier(\n",
    " learning_rate =0.5,\n",
    " n_estimators=100,\n",
    " max_depth=5,\n",
    " min_child_weight=1,\n",
    " gamma=0,\n",
    " subsample=0.8,\n",
    " colsample_bytree=0.8,\n",
    " objective= 'binary:logistic',\n",
    " nthread=4,\n",
    " scale_pos_weight=1,\n",
    " seed=100)\n",
    "\n",
    "modelfit(xgb1, df_normalized, predictors)"
   ]
  },
  {
   "cell_type": "code",
   "execution_count": null,
   "metadata": {
    "collapsed": true
   },
   "outputs": [],
   "source": [
    "from sklearn.metrics import precision_score, recall_score, f1_score, cohen_kappa_score, roc_auc_score\n",
    "print \"model report:\"\n",
    "df_normalized['pred1'] = m1pred\n",
    "p1 = precision_score(df_normalized['went_on_backorder'].values, m1pred)\n",
    "r1 = recall_score(df_normalized['went_on_backorder'].values, m1pred)\n",
    "f1 = f1_score(df_normalized['went_on_backorder'].values, m1pred)\n",
    "k1 = cohen_kappa_score(df_normalized['went_on_backorder'].values, m1pred)\n",
    "a1 =  roc_auc_score(df_normalized['went_on_backorder'], m1prob)\n",
    "print \"Precision : %.4g\" % p1\n",
    "print \"Recall : %.4g\" % r1\n",
    "print \"f1 score: %.4g\" % f1\n",
    "print \"Kappa : %.4g\" % k1\n",
    "print \"AUC Score (Train): %f\" % a1"
   ]
  },
  {
   "cell_type": "markdown",
   "metadata": {
    "collapsed": false
   },
   "source": [
    "Tune max_depth and min_child_weight\n",
    "\n",
    "We tune these first as they will have the highest impact on model outcome. To start with, let’s set wider ranges and then we will perform another iteration for smaller ranges."
   ]
  },
  {
   "cell_type": "code",
   "execution_count": 39,
   "metadata": {
    "collapsed": false
   },
   "outputs": [],
   "source": [
    "param_test1 = {\n",
    " 'max_depth':range(3,12,2),\n",
    " 'min_child_weight':range(1,4,2)\n",
    "}\n",
    "gsearch1 = GridSearchCV(estimator = XGBClassifier( learning_rate =0.1, n_estimators=51, max_depth=5,\n",
    " min_child_weight=1, gamma=0, subsample=0.8, colsample_bytree=0.8,\n",
    " objective= 'binary:logistic', nthread=4, scale_pos_weight=1, seed=100), \n",
    " param_grid = param_test1, scoring='roc_auc',n_jobs=4,iid=False, cv=5)"
   ]
  },
  {
   "cell_type": "code",
   "execution_count": 40,
   "metadata": {
    "collapsed": false
   },
   "outputs": [
    {
     "data": {
      "text/plain": [
       "([mean: 0.93006, std: 0.00705, params: {'max_depth': 3, 'min_child_weight': 1},\n",
       "  mean: 0.93005, std: 0.00704, params: {'max_depth': 3, 'min_child_weight': 3},\n",
       "  mean: 0.94106, std: 0.00571, params: {'max_depth': 5, 'min_child_weight': 1},\n",
       "  mean: 0.94093, std: 0.00562, params: {'max_depth': 5, 'min_child_weight': 3},\n",
       "  mean: 0.94811, std: 0.00545, params: {'max_depth': 7, 'min_child_weight': 1},\n",
       "  mean: 0.94768, std: 0.00555, params: {'max_depth': 7, 'min_child_weight': 3},\n",
       "  mean: 0.95413, std: 0.00591, params: {'max_depth': 9, 'min_child_weight': 1},\n",
       "  mean: 0.95365, std: 0.00572, params: {'max_depth': 9, 'min_child_weight': 3},\n",
       "  mean: 0.95905, std: 0.00681, params: {'max_depth': 11, 'min_child_weight': 1},\n",
       "  mean: 0.95818, std: 0.00614, params: {'max_depth': 11, 'min_child_weight': 3}],\n",
       " {'max_depth': 11, 'min_child_weight': 1},\n",
       " 0.9590468544812616)"
      ]
     },
     "execution_count": 40,
     "metadata": {},
     "output_type": "execute_result"
    }
   ],
   "source": [
    "gsearch1.fit(df_normalized[predictors],df_normalized[target])\n",
    "t = list()\n",
    "for i in range(0,9,2): t.append(gsearch1.grid_scores_[i][1])\n",
    "gsearch1.grid_scores_, gsearch1.best_params_, gsearch1.best_score_"
   ]
  },
  {
   "cell_type": "markdown",
   "metadata": {},
   "source": [
    "The result on the validation set showed that max_depth is optimized at 9. We'll check the values between 8 and 10 to double check. "
   ]
  },
  {
   "cell_type": "code",
   "execution_count": 41,
   "metadata": {
    "collapsed": false
   },
   "outputs": [],
   "source": [
    "param_test2 = {\n",
    " 'max_depth': range(12,17,1)\n",
    "}\n",
    "gsearch2 = GridSearchCV(estimator = XGBClassifier( learning_rate=0.1, n_estimators=51, max_depth=5,\n",
    " min_child_weight=1, gamma=0, subsample=0.8, colsample_bytree=0.8,\n",
    " objective= 'binary:logistic', nthread=4, scale_pos_weight=1,seed=100), \n",
    " param_grid = param_test2, scoring='roc_auc',n_jobs=4,iid=False, cv=5)"
   ]
  },
  {
   "cell_type": "code",
   "execution_count": 42,
   "metadata": {
    "collapsed": false
   },
   "outputs": [
    {
     "data": {
      "text/plain": [
       "([mean: 0.96121, std: 0.00708, params: {'max_depth': 12},\n",
       "  mean: 0.96275, std: 0.00745, params: {'max_depth': 13},\n",
       "  mean: 0.96407, std: 0.00775, params: {'max_depth': 14},\n",
       "  mean: 0.96508, std: 0.00754, params: {'max_depth': 15},\n",
       "  mean: 0.96572, std: 0.00840, params: {'max_depth': 16}],\n",
       " {'max_depth': 16},\n",
       " 0.9657238437956301)"
      ]
     },
     "execution_count": 42,
     "metadata": {},
     "output_type": "execute_result"
    }
   ],
   "source": [
    "gsearch2.fit(df_normalized[predictors],df_normalized[target])\n",
    "gsearch2.grid_scores_, gsearch2.best_params_, gsearch2.best_score_"
   ]
  },
  {
   "cell_type": "code",
   "execution_count": 43,
   "metadata": {
    "collapsed": true
   },
   "outputs": [],
   "source": [
    "param_test3 = {\n",
    " 'max_depth': range(17,25,1)\n",
    "}\n",
    "gsearch3 = GridSearchCV(estimator = XGBClassifier( learning_rate=0.1, n_estimators=51, max_depth=5,\n",
    " min_child_weight=1, gamma=0, subsample=0.8, colsample_bytree=0.8,\n",
    " objective= 'binary:logistic', nthread=4, scale_pos_weight=1,seed=100), \n",
    " param_grid = param_test3, scoring='roc_auc',n_jobs=4,iid=False, cv=5)"
   ]
  },
  {
   "cell_type": "code",
   "execution_count": 44,
   "metadata": {
    "collapsed": false
   },
   "outputs": [
    {
     "data": {
      "text/plain": [
       "([mean: 0.96660, std: 0.00826, params: {'max_depth': 17},\n",
       "  mean: 0.96660, std: 0.00837, params: {'max_depth': 18},\n",
       "  mean: 0.96676, std: 0.00868, params: {'max_depth': 19},\n",
       "  mean: 0.96699, std: 0.00884, params: {'max_depth': 20},\n",
       "  mean: 0.96710, std: 0.00850, params: {'max_depth': 21},\n",
       "  mean: 0.96730, std: 0.00886, params: {'max_depth': 22},\n",
       "  mean: 0.96758, std: 0.00863, params: {'max_depth': 23},\n",
       "  mean: 0.96734, std: 0.00882, params: {'max_depth': 24}],\n",
       " {'max_depth': 23},\n",
       " 0.9675823549841007)"
      ]
     },
     "execution_count": 44,
     "metadata": {},
     "output_type": "execute_result"
    }
   ],
   "source": [
    "gsearch3.fit(df_normalized[predictors],df_normalized[target])\n",
    "gsearch3.grid_scores_, gsearch3.best_params_, gsearch3.best_score_"
   ]
  },
  {
   "cell_type": "markdown",
   "metadata": {},
   "source": [
    "chose max_depth of 23 and min_child_weight of 1"
   ]
  },
  {
   "cell_type": "code",
   "execution_count": 45,
   "metadata": {
    "collapsed": false
   },
   "outputs": [],
   "source": [
    "param_test4 = {\n",
    " 'gamma':[i/10.0 for i in range(0,4)]\n",
    "}\n",
    "gsearch4 = GridSearchCV(estimator = XGBClassifier( learning_rate=0.1, n_estimators=51, max_depth=23,\n",
    " min_child_weight=1, gamma=0, subsample=0.8, colsample_bytree=0.8,\n",
    " objective= 'binary:logistic', nthread=4, scale_pos_weight=1,seed=100), \n",
    " param_grid = param_test4, scoring='roc_auc',n_jobs=4,iid=False, cv=5)"
   ]
  },
  {
   "cell_type": "code",
   "execution_count": 46,
   "metadata": {
    "collapsed": false
   },
   "outputs": [
    {
     "data": {
      "text/plain": [
       "([mean: 0.96758, std: 0.00863, params: {'gamma': 0.0},\n",
       "  mean: 0.96743, std: 0.00898, params: {'gamma': 0.1},\n",
       "  mean: 0.96707, std: 0.00870, params: {'gamma': 0.2},\n",
       "  mean: 0.96716, std: 0.00872, params: {'gamma': 0.3}],\n",
       " {'gamma': 0.0},\n",
       " 0.9675823549841007)"
      ]
     },
     "execution_count": 46,
     "metadata": {},
     "output_type": "execute_result"
    }
   ],
   "source": [
    "gsearch4.fit(df_normalized[predictors],df_normalized[target])\n",
    "gsearch4.grid_scores_, gsearch4.best_params_, gsearch4.best_score_"
   ]
  },
  {
   "cell_type": "markdown",
   "metadata": {},
   "source": [
    "gamma is optimized at 0"
   ]
  },
  {
   "cell_type": "code",
   "execution_count": 47,
   "metadata": {
    "collapsed": false
   },
   "outputs": [],
   "source": [
    "param_test5 = {\n",
    " 'subsample':[i/10.0 for i in range(6,10)],\n",
    " 'colsample_bytree':[i/10.0 for i in range(6,10)]\n",
    "}\n",
    "gsearch5 = GridSearchCV(estimator = XGBClassifier( learning_rate=0.1, n_estimators=51, max_depth=23,\n",
    " min_child_weight=1, gamma=0, subsample=0.8, colsample_bytree=0.8,\n",
    " objective= 'binary:logistic', nthread=4, scale_pos_weight=1,seed=100), \n",
    " param_grid = param_test5, scoring='roc_auc',n_jobs=4,iid=False, cv=5)"
   ]
  },
  {
   "cell_type": "code",
   "execution_count": 48,
   "metadata": {
    "collapsed": false
   },
   "outputs": [
    {
     "data": {
      "text/plain": [
       "([mean: 0.96468, std: 0.00810, params: {'subsample': 0.6, 'colsample_bytree': 0.6},\n",
       "  mean: 0.96571, std: 0.00849, params: {'subsample': 0.7, 'colsample_bytree': 0.6},\n",
       "  mean: 0.96692, std: 0.00897, params: {'subsample': 0.8, 'colsample_bytree': 0.6},\n",
       "  mean: 0.96773, std: 0.00903, params: {'subsample': 0.9, 'colsample_bytree': 0.6},\n",
       "  mean: 0.96432, std: 0.00814, params: {'subsample': 0.6, 'colsample_bytree': 0.7},\n",
       "  mean: 0.96605, std: 0.00839, params: {'subsample': 0.7, 'colsample_bytree': 0.7},\n",
       "  mean: 0.96651, std: 0.00852, params: {'subsample': 0.8, 'colsample_bytree': 0.7},\n",
       "  mean: 0.96742, std: 0.00856, params: {'subsample': 0.9, 'colsample_bytree': 0.7},\n",
       "  mean: 0.96549, std: 0.00819, params: {'subsample': 0.6, 'colsample_bytree': 0.8},\n",
       "  mean: 0.96665, std: 0.00841, params: {'subsample': 0.7, 'colsample_bytree': 0.8},\n",
       "  mean: 0.96758, std: 0.00863, params: {'subsample': 0.8, 'colsample_bytree': 0.8},\n",
       "  mean: 0.96795, std: 0.00861, params: {'subsample': 0.9, 'colsample_bytree': 0.8},\n",
       "  mean: 0.96519, std: 0.00770, params: {'subsample': 0.6, 'colsample_bytree': 0.9},\n",
       "  mean: 0.96635, std: 0.00798, params: {'subsample': 0.7, 'colsample_bytree': 0.9},\n",
       "  mean: 0.96682, std: 0.00838, params: {'subsample': 0.8, 'colsample_bytree': 0.9},\n",
       "  mean: 0.96731, std: 0.00850, params: {'subsample': 0.9, 'colsample_bytree': 0.9}],\n",
       " {'colsample_bytree': 0.8, 'subsample': 0.9},\n",
       " 0.9679453108356297)"
      ]
     },
     "execution_count": 48,
     "metadata": {},
     "output_type": "execute_result"
    }
   ],
   "source": [
    "gsearch5.fit(df_normalized[predictors],df_normalized[target])\n",
    "gsearch5.grid_scores_, gsearch5.best_params_, gsearch5.best_score_"
   ]
  },
  {
   "cell_type": "code",
   "execution_count": null,
   "metadata": {
    "collapsed": false
   },
   "outputs": [],
   "source": [
    "x = [i/10.0 for i in range(0,4)]\n",
    "plt.plot(x, t4, label = 'training')\n",
    "plt.plot(x, v4, label = 'validation')\n",
    "plt.legend(['training', 'validation'], loc='upper left')"
   ]
  },
  {
   "cell_type": "code",
   "execution_count": 54,
   "metadata": {
    "collapsed": true
   },
   "outputs": [],
   "source": [
    "param_test6 = {\n",
    " 'subsample':[i/10.0 for i in range(8,11)]\n",
    "}\n",
    "gsearch6 = GridSearchCV(estimator = XGBClassifier( learning_rate=0.1, n_estimators=51, max_depth=23,\n",
    " min_child_weight=1, gamma=0, subsample=0.8, colsample_bytree=0.8,\n",
    " objective= 'binary:logistic', nthread=4, scale_pos_weight=1,seed=100), \n",
    " param_grid = param_test6, scoring='roc_auc',n_jobs=4,iid=False, cv=5)"
   ]
  },
  {
   "cell_type": "code",
   "execution_count": 55,
   "metadata": {
    "collapsed": false
   },
   "outputs": [
    {
     "data": {
      "text/plain": [
       "([mean: 0.96758, std: 0.00863, params: {'subsample': 0.8},\n",
       "  mean: 0.96795, std: 0.00861, params: {'subsample': 0.9},\n",
       "  mean: 0.96820, std: 0.00951, params: {'subsample': 1.0}],\n",
       " {'subsample': 1.0},\n",
       " 0.9681975962461975)"
      ]
     },
     "execution_count": 55,
     "metadata": {},
     "output_type": "execute_result"
    }
   ],
   "source": [
    "gsearch6.fit(df_normalized[predictors],df_normalized[target])\n",
    "gsearch6.grid_scores_, gsearch6.best_params_, gsearch6.best_score_"
   ]
  },
  {
   "cell_type": "markdown",
   "metadata": {},
   "source": [
    "0.8 selected for colsample_bytree and 1.0 selected for subsample"
   ]
  },
  {
   "cell_type": "code",
   "execution_count": 57,
   "metadata": {
    "collapsed": false
   },
   "outputs": [],
   "source": [
    "param_test7 = {\n",
    " 'reg_alpha':[1e-5, 1e-2, 0.1, 1, 100]\n",
    "}\n",
    "gsearch7 = GridSearchCV(estimator = XGBClassifier( learning_rate=0.1, n_estimators=51, max_depth=23,\n",
    " min_child_weight=1, gamma=0, subsample=1.0, colsample_bytree=0.8,\n",
    " objective= 'binary:logistic', nthread=4, scale_pos_weight=1,seed=100), \n",
    " param_grid = param_test7, scoring='roc_auc',n_jobs=4,iid=False, cv=5)"
   ]
  },
  {
   "cell_type": "code",
   "execution_count": 58,
   "metadata": {
    "collapsed": false
   },
   "outputs": [
    {
     "data": {
      "text/plain": [
       "([mean: 0.96815, std: 0.00949, params: {'reg_alpha': 1e-05},\n",
       "  mean: 0.96829, std: 0.00903, params: {'reg_alpha': 0.01},\n",
       "  mean: 0.96787, std: 0.00905, params: {'reg_alpha': 0.1},\n",
       "  mean: 0.96260, std: 0.00737, params: {'reg_alpha': 1},\n",
       "  mean: 0.92902, std: 0.00724, params: {'reg_alpha': 100}],\n",
       " {'reg_alpha': 0.01},\n",
       " 0.9682928087937274)"
      ]
     },
     "execution_count": 58,
     "metadata": {},
     "output_type": "execute_result"
    }
   ],
   "source": [
    "gsearch7.fit(df_normalized[predictors],df_normalized[target])\n",
    "gsearch7.grid_scores_, gsearch7.best_params_, gsearch7.best_score_"
   ]
  },
  {
   "cell_type": "code",
   "execution_count": 59,
   "metadata": {
    "collapsed": true
   },
   "outputs": [],
   "source": [
    "param_test8 = {\n",
    " 'reg_alpha':[0, 0.001, 0.005, 0.01, 0.05]\n",
    "}\n",
    "gsearch8 = GridSearchCV(estimator = XGBClassifier( learning_rate=0.1, n_estimators=51, max_depth=23,\n",
    " min_child_weight=1, gamma=0, subsample=1.0, colsample_bytree=0.8,\n",
    " objective= 'binary:logistic', nthread=4, scale_pos_weight=1,seed=100), \n",
    " param_grid = param_test8, scoring='roc_auc',n_jobs=4,iid=False, cv=5)"
   ]
  },
  {
   "cell_type": "code",
   "execution_count": 60,
   "metadata": {
    "collapsed": false
   },
   "outputs": [
    {
     "data": {
      "text/plain": [
       "([mean: 0.96820, std: 0.00951, params: {'reg_alpha': 0},\n",
       "  mean: 0.96843, std: 0.00896, params: {'reg_alpha': 0.001},\n",
       "  mean: 0.96835, std: 0.00898, params: {'reg_alpha': 0.005},\n",
       "  mean: 0.96829, std: 0.00903, params: {'reg_alpha': 0.01},\n",
       "  mean: 0.96812, std: 0.00914, params: {'reg_alpha': 0.05}],\n",
       " {'reg_alpha': 0.001},\n",
       " 0.968426444740446)"
      ]
     },
     "execution_count": 60,
     "metadata": {},
     "output_type": "execute_result"
    }
   ],
   "source": [
    "gsearch8.fit(df_normalized[predictors],df_normalized[target])\n",
    "gsearch8.grid_scores_, gsearch8.best_params_, gsearch8.best_score_"
   ]
  },
  {
   "cell_type": "markdown",
   "metadata": {},
   "source": [
    "reg_alpha selected as 0.001. Now let's tune the learning rate. "
   ]
  },
  {
   "cell_type": "code",
   "execution_count": 9,
   "metadata": {
    "collapsed": true
   },
   "outputs": [],
   "source": [
    "param_test9 = {\n",
    " 'learning_rate':[0.001, 0.01, 0.1, 0.5, 0.7, 1]\n",
    "}\n",
    "gsearch9 = GridSearchCV(estimator = XGBClassifier( learning_rate=0.1, n_estimators=51, max_depth=23,\n",
    " min_child_weight=1, gamma=0, subsample=1.0, colsample_bytree=0.8, reg_alpha = 0.001,\n",
    " objective= 'binary:logistic', nthread=4, scale_pos_weight=1,seed=100), \n",
    " param_grid = param_test9, scoring='roc_auc',n_jobs=4,iid=False, cv=5)"
   ]
  },
  {
   "cell_type": "code",
   "execution_count": 10,
   "metadata": {
    "collapsed": false
   },
   "outputs": [
    {
     "data": {
      "text/plain": [
       "([mean: 0.93285, std: 0.00655, params: {'learning_rate': 0.001},\n",
       "  mean: 0.93713, std: 0.00633, params: {'learning_rate': 0.01},\n",
       "  mean: 0.96893, std: 0.00886, params: {'learning_rate': 0.1},\n",
       "  mean: 0.97245, std: 0.01186, params: {'learning_rate': 0.5},\n",
       "  mean: 0.96843, std: 0.01165, params: {'learning_rate': 0.7},\n",
       "  mean: 0.96408, std: 0.01504, params: {'learning_rate': 1}],\n",
       " {'learning_rate': 0.5},\n",
       " 0.9724457962492759)"
      ]
     },
     "execution_count": 10,
     "metadata": {},
     "output_type": "execute_result"
    }
   ],
   "source": [
    "gsearch9.fit(df_normalized[predictors],df_normalized[target])\n",
    "gsearch9.grid_scores_, gsearch9.best_params_, gsearch9.best_score_"
   ]
  },
  {
   "cell_type": "code",
   "execution_count": 13,
   "metadata": {
    "collapsed": true
   },
   "outputs": [],
   "source": [
    "param_test10 = {\n",
    " 'learning_rate':[0.2, 0.3, 0.4, 0.5]\n",
    "}\n",
    "gsearch10 = GridSearchCV(estimator = XGBClassifier( learning_rate=0.1, n_estimators=51, max_depth=23,\n",
    " min_child_weight=1, gamma=0, subsample=1.0, colsample_bytree=0.8, reg_alpha = 0.001,\n",
    " objective= 'binary:logistic', nthread=4, scale_pos_weight=1,seed=100), \n",
    " param_grid = param_test10, scoring='roc_auc',n_jobs=4,iid=False, cv=5)"
   ]
  },
  {
   "cell_type": "code",
   "execution_count": 14,
   "metadata": {
    "collapsed": false
   },
   "outputs": [
    {
     "data": {
      "text/plain": [
       "([mean: 0.97523, std: 0.00968, params: {'learning_rate': 0.2},\n",
       "  mean: 0.97425, std: 0.00980, params: {'learning_rate': 0.3},\n",
       "  mean: 0.97322, std: 0.01031, params: {'learning_rate': 0.4},\n",
       "  mean: 0.97245, std: 0.01186, params: {'learning_rate': 0.5}],\n",
       " {'learning_rate': 0.2},\n",
       " 0.9752335625007955)"
      ]
     },
     "execution_count": 14,
     "metadata": {},
     "output_type": "execute_result"
    }
   ],
   "source": [
    "gsearch10.fit(df_normalized[predictors],df_normalized[target])\n",
    "gsearch10.grid_scores_, gsearch10.best_params_, gsearch10.best_score_"
   ]
  }
 ],
 "metadata": {
  "kernelspec": {
   "display_name": "Python 2",
   "language": "python",
   "name": "python2"
  },
  "language_info": {
   "codemirror_mode": {
    "name": "ipython",
    "version": 2
   },
   "file_extension": ".py",
   "mimetype": "text/x-python",
   "name": "python",
   "nbconvert_exporter": "python",
   "pygments_lexer": "ipython2",
   "version": "2.7.13"
  }
 },
 "nbformat": 4,
 "nbformat_minor": 1
}
